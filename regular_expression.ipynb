{
 "cells": [
  {
   "cell_type": "code",
   "execution_count": 1,
   "id": "e982acc7",
   "metadata": {},
   "outputs": [],
   "source": [
    "import re"
   ]
  },
  {
   "cell_type": "code",
   "execution_count": 2,
   "id": "178b40a0",
   "metadata": {},
   "outputs": [
    {
     "data": {
      "text/plain": [
       "['1324567891', '(789)-456-1234']"
      ]
     },
     "execution_count": 2,
     "metadata": {},
     "output_type": "execute_result"
    }
   ],
   "source": [
    "text='''\n",
    "Elon musk's phone number is 1324567891, (789)-456-1234 call him if you have any questions on dodgecoins\n",
    "'''\n",
    "pattern = '\\(\\d{3}\\)-\\d{3}-\\d{4}|\\d{10}'\n",
    "\n",
    "matches = re.findall(pattern, text)\n",
    "matches\n"
   ]
  },
  {
   "cell_type": "code",
   "execution_count": null,
   "id": "a050de8a",
   "metadata": {},
   "outputs": [],
   "source": [
    "# there are mainly three techniques to solve the nlp problems \n",
    "# Rules and Heuristics\n",
    "# Machine Learning\n",
    "# Deep learning\n",
    "\n",
    "# IMage to text (google OCR , tesseract)\n",
    "# TF-IDF Vectorize (text --> numbers)\n",
    "# pass it through Naive bayes classifier || cosine similarity\n",
    "\n",
    "\n",
    "\n"
   ]
  }
 ],
 "metadata": {
  "kernelspec": {
   "display_name": "Python 3 (ipykernel)",
   "language": "python",
   "name": "python3"
  },
  "language_info": {
   "codemirror_mode": {
    "name": "ipython",
    "version": 3
   },
   "file_extension": ".py",
   "mimetype": "text/x-python",
   "name": "python",
   "nbconvert_exporter": "python",
   "pygments_lexer": "ipython3",
   "version": "3.11.4"
  }
 },
 "nbformat": 4,
 "nbformat_minor": 5
}
